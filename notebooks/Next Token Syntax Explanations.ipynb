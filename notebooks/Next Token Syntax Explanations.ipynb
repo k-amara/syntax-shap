{
 "cells": [
  {
   "cell_type": "code",
   "execution_count": 1,
   "metadata": {},
   "outputs": [
    {
     "name": "stderr",
     "output_type": "stream",
     "text": [
      "/Users/kenzaamara/opt/anaconda3/envs/shap/lib/python3.11/site-packages/tqdm/auto.py:21: TqdmWarning: IProgress not found. Please update jupyter and ipywidgets. See https://ipywidgets.readthedocs.io/en/stable/user_install.html\n",
      "  from .autonotebook import tqdm as notebook_tqdm\n"
     ]
    }
   ],
   "source": [
    "import csv\n",
    "import sys\n",
    "\n",
    "import numpy as np\n",
    "import transformers\n",
    "from transformers import AutoModelForCausalLM, AutoTokenizer\n",
    "\n",
    "MIN_TRANSFORMERS_VERSION = \"4.25.1\"\n",
    "\n",
    "# check transformers version\n",
    "assert (\n",
    "    transformers.__version__ >= MIN_TRANSFORMERS_VERSION\n",
    "), f\"Please upgrade transformers to version {MIN_TRANSFORMERS_VERSION} or higher.\"\n",
    "\n",
    "root_dir = \"/Users/kenzaamara/GithubProjects/syntax-shap/shap2\"\n",
    "sys.path.append(root_dir)"
   ]
  },
  {
   "cell_type": "code",
   "execution_count": 13,
   "metadata": {},
   "outputs": [
    {
     "name": "stderr",
     "output_type": "stream",
     "text": [
      "huggingface/tokenizers: The current process just got forked, after parallelism has already been used. Disabling parallelism to avoid deadlocks...\n",
      "To disable this warning, you can either:\n",
      "\t- Avoid using `tokenizers` before the fork if possible\n",
      "\t- Explicitly set the environment variable TOKENIZERS_PARALLELISM=(true | false)\n",
      "Loading checkpoint shards: 100%|██████████| 2/2 [01:02<00:00, 31.36s/it]\n"
     ]
    }
   ],
   "source": [
    "model = AutoModelForCausalLM.from_pretrained(\"mistralai/Mistral-7B-v0.1\")\n",
    "model.save_pretrained(\"/Users/kenzaamara/GithubProjects/syntax-shap/models/mistral\")"
   ]
  },
  {
   "cell_type": "code",
   "execution_count": 14,
   "metadata": {},
   "outputs": [
    {
     "data": {
      "text/plain": [
       "('/Users/kenzaamara/GithubProjects/syntax-shap/models/gpt2/tokenizer_config.json',\n",
       " '/Users/kenzaamara/GithubProjects/syntax-shap/models/gpt2/special_tokens_map.json',\n",
       " '/Users/kenzaamara/GithubProjects/syntax-shap/models/gpt2/vocab.json',\n",
       " '/Users/kenzaamara/GithubProjects/syntax-shap/models/gpt2/merges.txt',\n",
       " '/Users/kenzaamara/GithubProjects/syntax-shap/models/gpt2/added_tokens.json',\n",
       " '/Users/kenzaamara/GithubProjects/syntax-shap/models/gpt2/tokenizer.json')"
      ]
     },
     "execution_count": 14,
     "metadata": {},
     "output_type": "execute_result"
    },
    {
     "ename": "",
     "evalue": "",
     "output_type": "error",
     "traceback": [
      "\u001b[1;31mThe Kernel crashed while executing code in the the current cell or a previous cell. Please review the code in the cell(s) to identify a possible cause of the failure. Click <a href='https://aka.ms/vscodeJupyterKernelCrash'>here</a> for more info. View Jupyter <a href='command:jupyter.viewOutput'>log</a> for further details."
     ]
    }
   ],
   "source": [
    "tokenizer = AutoTokenizer.from_pretrained(\"gpt2\")\n",
    "tokenizer.save_pretrained(\"/Users/kenzaamara/GithubProjects/syntax-shap/models/gpt2\")"
   ]
  },
  {
   "cell_type": "code",
   "execution_count": 2,
   "metadata": {},
   "outputs": [
    {
     "data": {
      "text/plain": [
       "('/Users/kenzaamara/GithubProjects/syntax-shap/models/mistral/tokenizer_config.json',\n",
       " '/Users/kenzaamara/GithubProjects/syntax-shap/models/mistral/special_tokens_map.json',\n",
       " '/Users/kenzaamara/GithubProjects/syntax-shap/models/mistral/tokenizer.model',\n",
       " '/Users/kenzaamara/GithubProjects/syntax-shap/models/mistral/added_tokens.json',\n",
       " '/Users/kenzaamara/GithubProjects/syntax-shap/models/mistral/tokenizer.json')"
      ]
     },
     "execution_count": 2,
     "metadata": {},
     "output_type": "execute_result"
    }
   ],
   "source": [
    "tokenizer = AutoTokenizer.from_pretrained(\"mistralai/Mistral-7B-v0.1\")\n",
    "tokenizer.save_pretrained(\"/Users/kenzaamara/GithubProjects/syntax-shap/models/mistral\")"
   ]
  },
  {
   "cell_type": "code",
   "execution_count": 9,
   "metadata": {},
   "outputs": [],
   "source": [
    "model_name = \"gpt2\"#\"mistralai/Mistral-7B-v0.1\"\n",
    "# model = GPT2LMHeadModel.from_pretrained(\"gpt2\") #\n",
    "model = AutoModelForCausalLM.from_pretrained(model_name)\n",
    "tokenizer = AutoTokenizer.from_pretrained(model_name)\n",
    "tokenizer.pad_token = tokenizer.eos_token\n",
    "\n",
    "# set model decoder to true\n",
    "model.config.is_decoder = True\n",
    "# set text-generation params under task_specific_params\n",
    "model.config.task_specific_params[\"text-generation\"] = {\n",
    "    \"do_sample\": True,\n",
    "    \"max_new_tokens\": 1,\n",
    "    #\"temperature\": 0.7,\n",
    "    #\"top_k\": 50,\n",
    "    #\"no_repeat_ngram_size\": 2,\n",
    "}"
   ]
  },
  {
   "cell_type": "code",
   "execution_count": 3,
   "metadata": {},
   "outputs": [],
   "source": [
    "from models import TextGeneration\n",
    "import torch\n",
    "device = torch.device(\"cuda\" if torch.cuda.is_available() else \"cpu\")\n",
    "lmmodel = TextGeneration(model, tokenizer, device=device)"
   ]
  },
  {
   "cell_type": "code",
   "execution_count": 4,
   "metadata": {},
   "outputs": [
    {
     "data": {
      "text/plain": [
       "GPT2LMHeadModel(\n",
       "  (transformer): GPT2Model(\n",
       "    (wte): Embedding(50257, 768)\n",
       "    (wpe): Embedding(1024, 768)\n",
       "    (drop): Dropout(p=0.1, inplace=False)\n",
       "    (h): ModuleList(\n",
       "      (0-11): 12 x GPT2Block(\n",
       "        (ln_1): LayerNorm((768,), eps=1e-05, elementwise_affine=True)\n",
       "        (attn): GPT2Attention(\n",
       "          (c_attn): Conv1D()\n",
       "          (c_proj): Conv1D()\n",
       "          (attn_dropout): Dropout(p=0.1, inplace=False)\n",
       "          (resid_dropout): Dropout(p=0.1, inplace=False)\n",
       "        )\n",
       "        (ln_2): LayerNorm((768,), eps=1e-05, elementwise_affine=True)\n",
       "        (mlp): GPT2MLP(\n",
       "          (c_fc): Conv1D()\n",
       "          (c_proj): Conv1D()\n",
       "          (act): NewGELUActivation()\n",
       "          (dropout): Dropout(p=0.1, inplace=False)\n",
       "        )\n",
       "      )\n",
       "    )\n",
       "    (ln_f): LayerNorm((768,), eps=1e-05, elementwise_affine=True)\n",
       "  )\n",
       "  (lm_head): Linear(in_features=768, out_features=50257, bias=False)\n",
       ")"
      ]
     },
     "execution_count": 4,
     "metadata": {},
     "output_type": "execute_result"
    }
   ],
   "source": [
    "lmmodel.inner_model"
   ]
  },
  {
   "cell_type": "code",
   "execution_count": 47,
   "metadata": {},
   "outputs": [
    {
     "name": "stderr",
     "output_type": "stream",
     "text": [
      "Setting `pad_token_id` to `eos_token_id`:50256 for open-end generation.\n"
     ]
    },
    {
     "data": {
      "text/plain": [
       "array([[2933]])"
      ]
     },
     "execution_count": 47,
     "metadata": {},
     "output_type": "execute_result"
    }
   ],
   "source": [
    "lmmodel(\"A boy is not a\")"
   ]
  },
  {
   "cell_type": "code",
   "execution_count": 7,
   "metadata": {},
   "outputs": [
    {
     "name": "stderr",
     "output_type": "stream",
     "text": [
      "Setting `pad_token_id` to `eos_token_id`:50256 for open-end generation.\n"
     ]
    },
    {
     "data": {
      "text/plain": [
       "array([[27449]])"
      ]
     },
     "execution_count": 7,
     "metadata": {},
     "output_type": "execute_result"
    }
   ],
   "source": [
    "input = (np.array([\"Peter is a father with a\"], dtype=\"<U10\"),)\n",
    "lmmodel(*input)"
   ]
  },
  {
   "cell_type": "code",
   "execution_count": 49,
   "metadata": {},
   "outputs": [],
   "source": [
    "lmmodel.inner_model.config.task_specific_params[\"text-generation\"] = {\n",
    "    \"do_sample\": True,\n",
    "    \"max_new_tokens\": 1,\n",
    "    \"temperature\": 0.7,\n",
    "    \"top_k\": 50,\n",
    "    \"no_repeat_ngram_size\": 2,\n",
    "}"
   ]
  },
  {
   "cell_type": "code",
   "execution_count": 6,
   "metadata": {},
   "outputs": [
    {
     "data": {
      "text/plain": [
       "{'input_ids': tensor([[  32, 2933,  318,  407,  257]]), 'attention_mask': tensor([[1, 1, 1, 1, 1]])}"
      ]
     },
     "execution_count": 6,
     "metadata": {},
     "output_type": "execute_result"
    }
   ],
   "source": [
    "prompt = \"A boy is not a\"\n",
    "tokenizer([prompt], return_tensors=\"pt\")"
   ]
  },
  {
   "cell_type": "code",
   "execution_count": 20,
   "metadata": {},
   "outputs": [],
   "source": [
    "github_local_data_url = \"/Users/kenzaamara/GithubProjects/shap/data/\"\n",
    "tsv_file = open(github_local_data_url + \"Inconsistent-Dataset-Negation.tsv\")\n",
    "read_tsv = list(csv.reader(tsv_file, delimiter=\"\\t\"))\n",
    "data = []\n",
    "for row in read_tsv:\n",
    "    data.append(row[1][:-8])\n",
    "data = np.array(data)"
   ]
  },
  {
   "cell_type": "code",
   "execution_count": 21,
   "metadata": {},
   "outputs": [
    {
     "name": "stderr",
     "output_type": "stream",
     "text": [
      "Setting `pad_token_id` to `eos_token_id`:50256 for open-end generation.\n"
     ]
    },
    {
     "name": "stdout",
     "output_type": "stream",
     "text": [
      "self.X A boy is not a\n"
     ]
    },
    {
     "name": "stderr",
     "output_type": "stream",
     "text": [
      "Setting `pad_token_id` to `eos_token_id`:50256 for open-end generation.\n"
     ]
    },
    {
     "name": "stdout",
     "output_type": "stream",
     "text": [
      "self.X ['...']\n"
     ]
    },
    {
     "name": "stderr",
     "output_type": "stream",
     "text": [
      "Setting `pad_token_id` to `eos_token_id`:50256 for open-end generation.\n",
      "Setting `pad_token_id` to `eos_token_id`:50256 for open-end generation.\n"
     ]
    },
    {
     "name": "stdout",
     "output_type": "stream",
     "text": [
      "self.X ['Peter is a father with a']\n",
      "self.X ['Peter is a father ...' '... with a']\n"
     ]
    },
    {
     "name": "stderr",
     "output_type": "stream",
     "text": [
      "Setting `pad_token_id` to `eos_token_id`:50256 for open-end generation.\n"
     ]
    },
    {
     "name": "stdout",
     "output_type": "stream",
     "text": [
      "self.X ['Peter is a father with ...' 'Peter is a father ... a'\n",
      " 'Peter is ... with a' '... a father with a' '... with ...' '... a']\n"
     ]
    },
    {
     "name": "stderr",
     "output_type": "stream",
     "text": [
      "Setting `pad_token_id` to `eos_token_id`:50256 for open-end generation.\n"
     ]
    },
    {
     "name": "stdout",
     "output_type": "stream",
     "text": [
      "self.X ['Peter is a ... with a' 'Peter is ... father with a' '... a ... with a'\n",
      " '... father with a' 'Peter ... with a' '... is ... with a']\n"
     ]
    },
    {
     "name": "stderr",
     "output_type": "stream",
     "text": [
      "Setting `pad_token_id` to `eos_token_id`:50256 for open-end generation.\n"
     ]
    },
    {
     "name": "stdout",
     "output_type": "stream",
     "text": [
      "self.X ['Peter ... a father with a' '... is a father with a' 'Peter is ...'\n",
      " '... a father ...']\n"
     ]
    },
    {
     "name": "stderr",
     "output_type": "stream",
     "text": [
      "Setting `pad_token_id` to `eos_token_id`:50256 for open-end generation.\n"
     ]
    },
    {
     "name": "stdout",
     "output_type": "stream",
     "text": [
      "self.X ['Peter is a ...' 'Peter is ... father ...' 'Peter ...' '... is ...'\n",
      " '... a ...' '... father ...']\n"
     ]
    },
    {
     "data": {
      "text/plain": [
       ".values =\n",
       "array([[[  723.25 ],\n",
       "        [-1037.   ],\n",
       "        [  757.875],\n",
       "        [ 1000.875],\n",
       "        [ 1493.5  ],\n",
       "        [ 1618.5  ]]])\n",
       "\n",
       ".base_values =\n",
       "array([[393.]])\n",
       "\n",
       ".data =\n",
       "(array(['Peter', ' is', ' a', ' father', ' with', ' a'], dtype=object),)"
      ]
     },
     "execution_count": 21,
     "metadata": {},
     "output_type": "execute_result"
    }
   ],
   "source": [
    "import explainers\n",
    "\n",
    "explainer = explainers.PartitionExplainer(lmmodel, lmmodel.tokenizer)\n",
    "explainer([data[315]])"
   ]
  },
  {
   "cell_type": "code",
   "execution_count": 22,
   "metadata": {},
   "outputs": [],
   "source": [
    "import numpy as np\n",
    "import spacy\n",
    "from utils import create_dataframe_from_tree, spacy_doc_to_tree\n",
    "\n",
    "\n",
    "def get_dependency_dt(text):  # Example usage:\n",
    "    nlp = spacy.load(\"en_core_web_sm\")\n",
    "    doc = nlp(text + \" MASK\")\n",
    "\n",
    "    # Convert Spacy dependency tree to a Tree object\n",
    "    tree_root = spacy_doc_to_tree(doc)\n",
    "\n",
    "    # Example usage with the Tree structure\n",
    "    tree_df = create_dataframe_from_tree(tree_root)\n",
    "    tree_df = tree_df[tree_df[\"token\"] != \"MASK\"]\n",
    "    return tree_df\n",
    "\n",
    "\n",
    "def filter_invalid_inputs(data, tokenizer):\n",
    "    invalid_ids = []\n",
    "    invalid_inputs = []\n",
    "    for id, input in enumerate(data):\n",
    "        M = len(tokenizer.encode(input))\n",
    "        dependency_dt = get_dependency_dt(input)\n",
    "        max_pos = dependency_dt[\"position\"].max() + 1\n",
    "        if M != max_pos:\n",
    "            invalid_ids.append(id)\n",
    "            invalid_inputs.append(input)\n",
    "    invalid_inputs = np.unique(invalid_inputs)\n",
    "    return invalid_ids, invalid_inputs\n",
    "\n",
    "\n",
    "# invalid_ids, invalid_inputs = filter_invalid_inputs(data, lmmodel.tokenizer)\n",
    "# np.save('/Users/kenzaamara/GithubProjects/shap/results/invalid_ids.npy', invalid_ids)\n",
    "# np.save('/Users/kenzaamara/GithubProjects/shap/results/invalid_inputs.npy', invalid_inputs)"
   ]
  },
  {
   "cell_type": "code",
   "execution_count": null,
   "metadata": {},
   "outputs": [],
   "source": [
    "invalid_ids = np.load(\n",
    "    \"/Users/kenzaamara/GithubProjects/shap/results/invalid_ids.npy\", allow_pickle=True\n",
    ")\n",
    "invalid_inputs = np.load(\n",
    "    \"/Users/kenzaamara/GithubProjects/shap/results/invalid_inputs.npy\",\n",
    "    allow_pickle=True,\n",
    ")"
   ]
  },
  {
   "cell_type": "code",
   "execution_count": null,
   "metadata": {},
   "outputs": [],
   "source": [
    "## Load the computed shapley values\n",
    "import pickle\n",
    "\n",
    "algorithms = [\"partition\"]  # , 'exact', 'dtree', 'r-dtree']\n",
    "weighted = False\n",
    "for algorithm in algorithms:\n",
    "    if algorithm.endswith(\"dtree\"):\n",
    "        weighted = weighted\n",
    "    else:\n",
    "        weighted = False\n",
    "    w_str = \"_weighted\" if weighted else \"\"\n",
    "    print(\"w_str\", w_str)\n",
    "    filename = (\n",
    "        f\"/Users/kenzaamara/GithubProjects/shap/results/loss_dist/shap_values_{algorithm}\"\n",
    "        + w_str\n",
    "        + \".pkl\"\n",
    "    )\n",
    "    with open(filename, \"rb\") as f:\n",
    "        shap_values = pickle.load(f)\n",
    "\n",
    "    # Perprocessing\n",
    "    data = data[0:314]\n",
    "    scores = shap_values.values[0:314]\n",
    "\n",
    "    ## filter the invalid inputs\n",
    "    filtered_data = np.delete(data, invalid_ids[invalid_ids < 314], axis=0)\n",
    "    filtered_scores = np.delete(scores, invalid_ids[invalid_ids < 314], axis=0)\n",
    "    assert len(filtered_data) == len(filtered_scores)"
   ]
  },
  {
   "cell_type": "code",
   "execution_count": null,
   "metadata": {},
   "outputs": [],
   "source": [
    "from evaluation import aopc_fidelity\n",
    "\n",
    "fid_scores = aopc_fidelity(filtered_data, filtered_scores, lmmodel)\n",
    "print(\"Fidelity score average: \", fid_scores.mean())\n",
    "kl_div_mean, kl_div_batchmean, kl_fid_scores = kl_divergence_fidelity(\n",
    "    filtered_data, filtered_scores, lmmodel\n",
    ")\n",
    "kl_div_mean, kl_div_batchmean, kl_fid_scores"
   ]
  },
  {
   "cell_type": "code",
   "execution_count": null,
   "metadata": {},
   "outputs": [],
   "source": [
    "import matplotlib.pyplot as plt\n",
    "import pandas as pd\n",
    "import seaborn as sns\n",
    "\n",
    "\n",
    "def plot_shap_values(shap_values, title, input_id=0):\n",
    "    # Extracting data for plotting\n",
    "    values = shap_values.values.flatten()  # Flatten the nested list\n",
    "    features = shap_values.data[0]\n",
    "\n",
    "    # Creating a DataFrame\n",
    "    df = pd.DataFrame({\"Feature\": features, \"Shapley Value\": values})\n",
    "    # Determine color for each bar individually\n",
    "    colors = [\"red\" if x > 0 else \"blue\" for x in df[\"Shapley Value\"]]\n",
    "\n",
    "    # Plotting\n",
    "    fig = plt.figure(figsize=(4, 4))\n",
    "    sns.barplot(data=df, x=\"Feature\", y=\"Shapley Value\", palette=colors, legend=False)\n",
    "    plt.title(title)\n",
    "    plt.xlabel(\"Shapley Value\")\n",
    "    plt.ylabel(\"Feature\")\n",
    "\n",
    "    plt.savefig(root_dir + f\"/figures/{title}_id_{input_id}.png\", bbox_inches=\"tight\")\n",
    "    plt.show()\n",
    "\n",
    "\n",
    "plt.plot(explainer, fid_scores)"
   ]
  }
 ],
 "metadata": {
  "kernelspec": {
   "display_name": "shap",
   "language": "python",
   "name": "python3"
  },
  "language_info": {
   "codemirror_mode": {
    "name": "ipython",
    "version": 3
   },
   "file_extension": ".py",
   "mimetype": "text/x-python",
   "name": "python",
   "nbconvert_exporter": "python",
   "pygments_lexer": "ipython3",
   "version": "3.11.5"
  }
 },
 "nbformat": 4,
 "nbformat_minor": 2
}
