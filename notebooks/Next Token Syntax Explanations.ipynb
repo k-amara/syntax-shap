{
 "cells": [
  {
   "cell_type": "code",
   "execution_count": 1,
   "metadata": {},
   "outputs": [
    {
     "name": "stderr",
     "output_type": "stream",
     "text": [
      "/Users/kenzaamara/opt/anaconda3/envs/shap/lib/python3.11/site-packages/tqdm/auto.py:21: TqdmWarning: IProgress not found. Please update jupyter and ipywidgets. See https://ipywidgets.readthedocs.io/en/stable/user_install.html\n",
      "  from .autonotebook import tqdm as notebook_tqdm\n"
     ]
    }
   ],
   "source": [
    "import csv\n",
    "import sys\n",
    "\n",
    "import numpy as np\n",
    "import transformers\n",
    "from transformers import AutoModelForCausalLM, AutoTokenizer\n",
    "\n",
    "MIN_TRANSFORMERS_VERSION = \"4.25.1\"\n",
    "\n",
    "# check transformers version\n",
    "assert (\n",
    "    transformers.__version__ >= MIN_TRANSFORMERS_VERSION\n",
    "), f\"Please upgrade transformers to version {MIN_TRANSFORMERS_VERSION} or higher.\"\n",
    "\n",
    "root_dir = \"/Users/kenzaamara/GithubProjects/shap/shap2\"\n",
    "sys.path.append(root_dir)"
   ]
  },
  {
   "cell_type": "code",
   "execution_count": 3,
   "metadata": {},
   "outputs": [
    {
     "name": "stderr",
     "output_type": "stream",
     "text": [
      "model-00001-of-00002.safetensors: 100%|██████████| 9.94G/9.94G [21:18<00:00, 7.78MB/s]\n",
      "model-00002-of-00002.safetensors: 100%|██████████| 4.54G/4.54G [09:29<00:00, 7.97MB/s]\n",
      "Downloading shards: 100%|██████████| 2/2 [30:48<00:00, 924.45s/it] \n",
      "Loading checkpoint shards: 100%|██████████| 2/2 [01:01<00:00, 30.78s/it]\n",
      "generation_config.json: 100%|██████████| 116/116 [00:00<00:00, 337kB/s]\n",
      "tokenizer_config.json: 100%|██████████| 967/967 [00:00<00:00, 6.97MB/s]\n",
      "tokenizer.model: 100%|██████████| 493k/493k [00:00<00:00, 2.37MB/s]\n",
      "tokenizer.json: 100%|██████████| 1.80M/1.80M [00:00<00:00, 3.86MB/s]\n",
      "special_tokens_map.json: 100%|██████████| 72.0/72.0 [00:00<00:00, 127kB/s]\n"
     ]
    },
    {
     "ename": "TypeError",
     "evalue": "'NoneType' object does not support item assignment",
     "output_type": "error",
     "traceback": [
      "\u001b[0;31m---------------------------------------------------------------------------\u001b[0m",
      "\u001b[0;31mTypeError\u001b[0m                                 Traceback (most recent call last)",
      "Cell \u001b[0;32mIn[3], line 10\u001b[0m\n\u001b[1;32m      8\u001b[0m model\u001b[38;5;241m.\u001b[39mconfig\u001b[38;5;241m.\u001b[39mis_decoder \u001b[38;5;241m=\u001b[39m \u001b[38;5;28;01mTrue\u001b[39;00m\n\u001b[1;32m      9\u001b[0m \u001b[38;5;66;03m# set text-generation params under task_specific_params\u001b[39;00m\n\u001b[0;32m---> 10\u001b[0m \u001b[43mmodel\u001b[49m\u001b[38;5;241;43m.\u001b[39;49m\u001b[43mconfig\u001b[49m\u001b[38;5;241;43m.\u001b[39;49m\u001b[43mtask_specific_params\u001b[49m\u001b[43m[\u001b[49m\u001b[38;5;124;43m\"\u001b[39;49m\u001b[38;5;124;43mtext-generation\u001b[39;49m\u001b[38;5;124;43m\"\u001b[39;49m\u001b[43m]\u001b[49m \u001b[38;5;241m=\u001b[39m {\n\u001b[1;32m     11\u001b[0m     \u001b[38;5;124m\"\u001b[39m\u001b[38;5;124mdo_sample\u001b[39m\u001b[38;5;124m\"\u001b[39m: \u001b[38;5;28;01mTrue\u001b[39;00m,\n\u001b[1;32m     12\u001b[0m     \u001b[38;5;124m\"\u001b[39m\u001b[38;5;124mmax_new_tokens\u001b[39m\u001b[38;5;124m\"\u001b[39m: \u001b[38;5;241m1\u001b[39m,\n\u001b[1;32m     13\u001b[0m     \u001b[38;5;124m\"\u001b[39m\u001b[38;5;124mtemperature\u001b[39m\u001b[38;5;124m\"\u001b[39m: \u001b[38;5;241m0.7\u001b[39m,\n\u001b[1;32m     14\u001b[0m     \u001b[38;5;124m\"\u001b[39m\u001b[38;5;124mtop_k\u001b[39m\u001b[38;5;124m\"\u001b[39m: \u001b[38;5;241m50\u001b[39m,\n\u001b[1;32m     15\u001b[0m     \u001b[38;5;124m\"\u001b[39m\u001b[38;5;124mno_repeat_ngram_size\u001b[39m\u001b[38;5;124m\"\u001b[39m: \u001b[38;5;241m2\u001b[39m,\n\u001b[1;32m     16\u001b[0m }\n",
      "\u001b[0;31mTypeError\u001b[0m: 'NoneType' object does not support item assignment"
     ]
    }
   ],
   "source": [
    "model_name = \"mistralai/Mistral-7B-v0.1\"#\"gpt2\"\n",
    "# model = GPT2LMHeadModel.from_pretrained(\"gpt2\") #\n",
    "model = AutoModelForCausalLM.from_pretrained(model_name)\n",
    "tokenizer = AutoTokenizer.from_pretrained(model_name)\n",
    "tokenizer.pad_token = tokenizer.eos_token\n",
    "\n",
    "# set model decoder to true\n",
    "model.config.is_decoder = True\n",
    "# set text-generation params under task_specific_params\n",
    "model.config.task_specific_params[\"text-generation\"] = {\n",
    "    \"do_sample\": True,\n",
    "    \"max_new_tokens\": 1,\n",
    "    \"temperature\": 0.7,\n",
    "    \"top_k\": 50,\n",
    "    \"no_repeat_ngram_size\": 2,\n",
    "}"
   ]
  },
  {
   "cell_type": "code",
   "execution_count": 3,
   "metadata": {},
   "outputs": [],
   "source": [
    "from models import TextGeneration\n",
    "\n",
    "lmmodel = TextGeneration(model, tokenizer)"
   ]
  },
  {
   "cell_type": "code",
   "execution_count": 18,
   "metadata": {},
   "outputs": [
    {
     "name": "stderr",
     "output_type": "stream",
     "text": [
      "Setting `pad_token_id` to `eos_token_id`:50256 for open-end generation.\n"
     ]
    },
    {
     "name": "stdout",
     "output_type": "stream",
     "text": [
      "self.X ['Peter is a' 'A boy is a']\n"
     ]
    },
    {
     "data": {
      "text/plain": [
       "array([[27449],\n",
       "       [ 2933]])"
      ]
     },
     "execution_count": 18,
     "metadata": {},
     "output_type": "execute_result"
    }
   ],
   "source": [
    "input = (np.array([\"Peter is a father with a\", \"A boy is a\"], dtype=\"<U10\"),)\n",
    "lmmodel(*input)"
   ]
  },
  {
   "cell_type": "code",
   "execution_count": 19,
   "metadata": {},
   "outputs": [
    {
     "name": "stderr",
     "output_type": "stream",
     "text": [
      "Setting `pad_token_id` to `eos_token_id`:50256 for open-end generation.\n"
     ]
    },
    {
     "name": "stdout",
     "output_type": "stream",
     "text": [
      "self.X ['Peter is a' 'A boy is a']\n"
     ]
    },
    {
     "data": {
      "text/plain": [
       "array([[2933]])"
      ]
     },
     "execution_count": 19,
     "metadata": {},
     "output_type": "execute_result"
    }
   ],
   "source": [
    "lmmodel(\"A boy is not a\")"
   ]
  },
  {
   "cell_type": "code",
   "execution_count": 20,
   "metadata": {},
   "outputs": [],
   "source": [
    "github_local_data_url = \"/Users/kenzaamara/GithubProjects/shap/data/\"\n",
    "tsv_file = open(github_local_data_url + \"Inconsistent-Dataset-Negation.tsv\")\n",
    "read_tsv = list(csv.reader(tsv_file, delimiter=\"\\t\"))\n",
    "data = []\n",
    "for row in read_tsv:\n",
    "    data.append(row[1][:-8])\n",
    "data = np.array(data)"
   ]
  },
  {
   "cell_type": "code",
   "execution_count": 21,
   "metadata": {},
   "outputs": [
    {
     "name": "stderr",
     "output_type": "stream",
     "text": [
      "Setting `pad_token_id` to `eos_token_id`:50256 for open-end generation.\n"
     ]
    },
    {
     "name": "stdout",
     "output_type": "stream",
     "text": [
      "self.X A boy is not a\n"
     ]
    },
    {
     "name": "stderr",
     "output_type": "stream",
     "text": [
      "Setting `pad_token_id` to `eos_token_id`:50256 for open-end generation.\n"
     ]
    },
    {
     "name": "stdout",
     "output_type": "stream",
     "text": [
      "self.X ['...']\n"
     ]
    },
    {
     "name": "stderr",
     "output_type": "stream",
     "text": [
      "Setting `pad_token_id` to `eos_token_id`:50256 for open-end generation.\n",
      "Setting `pad_token_id` to `eos_token_id`:50256 for open-end generation.\n"
     ]
    },
    {
     "name": "stdout",
     "output_type": "stream",
     "text": [
      "self.X ['Peter is a father with a']\n",
      "self.X ['Peter is a father ...' '... with a']\n"
     ]
    },
    {
     "name": "stderr",
     "output_type": "stream",
     "text": [
      "Setting `pad_token_id` to `eos_token_id`:50256 for open-end generation.\n"
     ]
    },
    {
     "name": "stdout",
     "output_type": "stream",
     "text": [
      "self.X ['Peter is a father with ...' 'Peter is a father ... a'\n",
      " 'Peter is ... with a' '... a father with a' '... with ...' '... a']\n"
     ]
    },
    {
     "name": "stderr",
     "output_type": "stream",
     "text": [
      "Setting `pad_token_id` to `eos_token_id`:50256 for open-end generation.\n"
     ]
    },
    {
     "name": "stdout",
     "output_type": "stream",
     "text": [
      "self.X ['Peter is a ... with a' 'Peter is ... father with a' '... a ... with a'\n",
      " '... father with a' 'Peter ... with a' '... is ... with a']\n"
     ]
    },
    {
     "name": "stderr",
     "output_type": "stream",
     "text": [
      "Setting `pad_token_id` to `eos_token_id`:50256 for open-end generation.\n"
     ]
    },
    {
     "name": "stdout",
     "output_type": "stream",
     "text": [
      "self.X ['Peter ... a father with a' '... is a father with a' 'Peter is ...'\n",
      " '... a father ...']\n"
     ]
    },
    {
     "name": "stderr",
     "output_type": "stream",
     "text": [
      "Setting `pad_token_id` to `eos_token_id`:50256 for open-end generation.\n"
     ]
    },
    {
     "name": "stdout",
     "output_type": "stream",
     "text": [
      "self.X ['Peter is a ...' 'Peter is ... father ...' 'Peter ...' '... is ...'\n",
      " '... a ...' '... father ...']\n"
     ]
    },
    {
     "data": {
      "text/plain": [
       ".values =\n",
       "array([[[  723.25 ],\n",
       "        [-1037.   ],\n",
       "        [  757.875],\n",
       "        [ 1000.875],\n",
       "        [ 1493.5  ],\n",
       "        [ 1618.5  ]]])\n",
       "\n",
       ".base_values =\n",
       "array([[393.]])\n",
       "\n",
       ".data =\n",
       "(array(['Peter', ' is', ' a', ' father', ' with', ' a'], dtype=object),)"
      ]
     },
     "execution_count": 21,
     "metadata": {},
     "output_type": "execute_result"
    }
   ],
   "source": [
    "import explainers\n",
    "\n",
    "explainer = explainers.PartitionExplainer(lmmodel, lmmodel.tokenizer)\n",
    "explainer([data[315]])"
   ]
  },
  {
   "cell_type": "code",
   "execution_count": 22,
   "metadata": {},
   "outputs": [],
   "source": [
    "import numpy as np\n",
    "import spacy\n",
    "from utils import create_dataframe_from_tree, spacy_doc_to_tree\n",
    "\n",
    "\n",
    "def get_dependency_dt(text):  # Example usage:\n",
    "    nlp = spacy.load(\"en_core_web_sm\")\n",
    "    doc = nlp(text + \" MASK\")\n",
    "\n",
    "    # Convert Spacy dependency tree to a Tree object\n",
    "    tree_root = spacy_doc_to_tree(doc)\n",
    "\n",
    "    # Example usage with the Tree structure\n",
    "    tree_df = create_dataframe_from_tree(tree_root)\n",
    "    tree_df = tree_df[tree_df[\"token\"] != \"MASK\"]\n",
    "    return tree_df\n",
    "\n",
    "\n",
    "def filter_invalid_inputs(data, tokenizer):\n",
    "    invalid_ids = []\n",
    "    invalid_inputs = []\n",
    "    for id, input in enumerate(data):\n",
    "        M = len(tokenizer.encode(input))\n",
    "        dependency_dt = get_dependency_dt(input)\n",
    "        max_pos = dependency_dt[\"position\"].max() + 1\n",
    "        if M != max_pos:\n",
    "            invalid_ids.append(id)\n",
    "            invalid_inputs.append(input)\n",
    "    invalid_inputs = np.unique(invalid_inputs)\n",
    "    return invalid_ids, invalid_inputs\n",
    "\n",
    "\n",
    "# invalid_ids, invalid_inputs = filter_invalid_inputs(data, lmmodel.tokenizer)\n",
    "# np.save('/Users/kenzaamara/GithubProjects/shap/results/invalid_ids.npy', invalid_ids)\n",
    "# np.save('/Users/kenzaamara/GithubProjects/shap/results/invalid_inputs.npy', invalid_inputs)"
   ]
  },
  {
   "cell_type": "code",
   "execution_count": null,
   "metadata": {},
   "outputs": [],
   "source": [
    "invalid_ids = np.load(\n",
    "    \"/Users/kenzaamara/GithubProjects/shap/results/invalid_ids.npy\", allow_pickle=True\n",
    ")\n",
    "invalid_inputs = np.load(\n",
    "    \"/Users/kenzaamara/GithubProjects/shap/results/invalid_inputs.npy\",\n",
    "    allow_pickle=True,\n",
    ")"
   ]
  },
  {
   "cell_type": "code",
   "execution_count": null,
   "metadata": {},
   "outputs": [],
   "source": [
    "## Load the computed shapley values\n",
    "import pickle\n",
    "\n",
    "algorithms = [\"partition\"]  # , 'exact', 'dtree', 'r-dtree']\n",
    "weighted = False\n",
    "for algorithm in algorithms:\n",
    "    if algorithm.endswith(\"dtree\"):\n",
    "        weighted = weighted\n",
    "    else:\n",
    "        weighted = False\n",
    "    w_str = \"_weighted\" if weighted else \"\"\n",
    "    print(\"w_str\", w_str)\n",
    "    filename = (\n",
    "        f\"/Users/kenzaamara/GithubProjects/shap/results/loss_dist/shap_values_{algorithm}\"\n",
    "        + w_str\n",
    "        + \".pkl\"\n",
    "    )\n",
    "    with open(filename, \"rb\") as f:\n",
    "        shap_values = pickle.load(f)\n",
    "\n",
    "    # Perprocessing\n",
    "    data = data[0:314]\n",
    "    scores = shap_values.values[0:314]\n",
    "\n",
    "    ## filter the invalid inputs\n",
    "    filtered_data = np.delete(data, invalid_ids[invalid_ids < 314], axis=0)\n",
    "    filtered_scores = np.delete(scores, invalid_ids[invalid_ids < 314], axis=0)\n",
    "    assert len(filtered_data) == len(filtered_scores)"
   ]
  },
  {
   "cell_type": "code",
   "execution_count": null,
   "metadata": {},
   "outputs": [],
   "source": [
    "from evaluation import aopc_fidelity\n",
    "\n",
    "fid_scores = aopc_fidelity(filtered_data, filtered_scores, lmmodel)\n",
    "print(\"Fidelity score average: \", fid_scores.mean())\n",
    "kl_div_mean, kl_div_batchmean, kl_fid_scores = kl_divergence_fidelity(\n",
    "    filtered_data, filtered_scores, lmmodel\n",
    ")\n",
    "kl_div_mean, kl_div_batchmean, kl_fid_scores"
   ]
  },
  {
   "cell_type": "code",
   "execution_count": null,
   "metadata": {},
   "outputs": [],
   "source": [
    "import matplotlib.pyplot as plt\n",
    "import pandas as pd\n",
    "import seaborn as sns\n",
    "\n",
    "\n",
    "def plot_shap_values(shap_values, title, input_id=0):\n",
    "    # Extracting data for plotting\n",
    "    values = shap_values.values.flatten()  # Flatten the nested list\n",
    "    features = shap_values.data[0]\n",
    "\n",
    "    # Creating a DataFrame\n",
    "    df = pd.DataFrame({\"Feature\": features, \"Shapley Value\": values})\n",
    "    # Determine color for each bar individually\n",
    "    colors = [\"red\" if x > 0 else \"blue\" for x in df[\"Shapley Value\"]]\n",
    "\n",
    "    # Plotting\n",
    "    fig = plt.figure(figsize=(4, 4))\n",
    "    sns.barplot(data=df, x=\"Feature\", y=\"Shapley Value\", palette=colors, legend=False)\n",
    "    plt.title(title)\n",
    "    plt.xlabel(\"Shapley Value\")\n",
    "    plt.ylabel(\"Feature\")\n",
    "\n",
    "    plt.savefig(root_dir + f\"/figures/{title}_id_{input_id}.png\", bbox_inches=\"tight\")\n",
    "    plt.show()\n",
    "\n",
    "\n",
    "plt.plot(explainer, fid_scores)"
   ]
  }
 ],
 "metadata": {
  "kernelspec": {
   "display_name": "shap",
   "language": "python",
   "name": "python3"
  },
  "language_info": {
   "codemirror_mode": {
    "name": "ipython",
    "version": 3
   },
   "file_extension": ".py",
   "mimetype": "text/x-python",
   "name": "python",
   "nbconvert_exporter": "python",
   "pygments_lexer": "ipython3",
   "version": "3.11.5"
  }
 },
 "nbformat": 4,
 "nbformat_minor": 2
}
