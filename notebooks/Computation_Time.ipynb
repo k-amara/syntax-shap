{
 "cells": [
  {
   "cell_type": "code",
   "execution_count": null,
   "metadata": {
    "vscode": {
     "languageId": "plaintext"
    }
   },
   "outputs": [],
   "source": [
    "import csv\n",
    "import sys\n",
    "import os\n",
    "\n",
    "import numpy as np\n",
    "import transformers\n",
    "from transformers import AutoModelForCausalLM, AutoTokenizer\n",
    "\n",
    "MIN_TRANSFORMERS_VERSION = \"4.25.1\"\n",
    "\n",
    "# check transformers version\n",
    "assert (\n",
    "    transformers.__version__ >= MIN_TRANSFORMERS_VERSION\n",
    "), f\"Please upgrade transformers to version {MIN_TRANSFORMERS_VERSION} or higher.\"\n",
    "\n",
    "root_dir = \"/Users/kenzaamara/GithubProjects/syntax-shap/shap2\"\n",
    "sys.path.append(root_dir)"
   ]
  },
  {
   "cell_type": "code",
   "execution_count": null,
   "metadata": {
    "vscode": {
     "languageId": "plaintext"
    }
   },
   "outputs": [],
   "source": [
    "import pandas as pd\n",
    "import os\n",
    "import re\n",
    "\n",
    "def parse_filename(filename):\n",
    "    \"\"\"Parse the filename to extract algorithm, dataset, and model.\"\"\"\n",
    "    pattern = r\"_algorithm=(.*?)_dataset=(.*?)_model_name=(.*?)\\.stdout\"\n",
    "    match = re.search(pattern, filename)\n",
    "    if match:\n",
    "        return match.groups()\n",
    "    else:\n",
    "        return None, None, None\n",
    "    \n",
    "def tail(filename, n=1):\n",
    "    \"\"\"Read the last n lines from a file.\"\"\"\n",
    "    with open(filename, 'rb') as f:\n",
    "        f.seek(0, os.SEEK_END)\n",
    "        end_byte = f.tell()\n",
    "        lines_found = []\n",
    "        while len(lines_found) < n and f.tell() > 0:\n",
    "            f.seek(-2, os.SEEK_CUR)\n",
    "            if f.read(1) == b'\\n':\n",
    "                lines_found.append(f.tell())\n",
    "        f.seek(0)\n",
    "        if lines_found:\n",
    "            f.seek(lines_found[-1])\n",
    "        else:\n",
    "            f.seek(0)\n",
    "        last_lines = f.read(end_byte - f.tell()).decode('utf-8').splitlines()\n",
    "        return last_lines[-n:]\n",
    "\n",
    "\n",
    "def get_last_values(filename):\n",
    "    \"\"\"Retrieve the last two values from the last two lines of a file.\"\"\"\n",
    "    try:\n",
    "        last_lines = tail(filename, n=4)\n",
    "        time_lines = last_lines[:2]\n",
    "        if last_lines[-2].startswith(\"Done!\"):\n",
    "            last_values = [eval(line.split()[-1]) for line in time_lines]\n",
    "            return last_values\n",
    "        else:\n",
    "            return [None, None]\n",
    "    except IOError:\n",
    "        print(f\"Error reading file: {filename}\")\n",
    "        return [None, None]\n",
    "\n",
    "def process_folder(folder_path):\n",
    "    \"\"\"Process all .out files in the specified folder.\"\"\"\n",
    "    data = []\n",
    "    for file in os.listdir(folder_path):\n",
    "        if file.endswith(\".stdout\"):\n",
    "            file_path = os.path.join(folder_path, file)\n",
    "            last_values = get_last_values(file_path)\n",
    "            algorithm, dataset, model = parse_filename(file)\n",
    "            # Add the extracted details as new columns\n",
    "            data.append({\n",
    "                \"algorithm\": algorithm,\n",
    "                \"dataset\": dataset,\n",
    "                \"model\": model,\n",
    "                \"time\": last_values[0],\n",
    "                \"avg_time\": last_values[1]\n",
    "            })\n",
    "    df = pd.DataFrame(data)\n",
    "    return df\n",
    "\n",
    "# Specify the folder path here\n",
    "folder_path = \"/cluster/work/zhang/kamara/syntax-shap/checkpoints/computation_time/logs\"\n",
    "df = process_folder(folder_path)\n",
    "\n",
    "# Print the DataFrame\n",
    "df.groupby([\"model\", \"dataset\", \"algorithm\"]).mean()\n"
   ]
  }
 ],
 "metadata": {
  "kernelspec": {
   "display_name": "shap",
   "language": "python",
   "name": "python3"
  },
  "language_info": {
   "codemirror_mode": {
    "name": "ipython",
    "version": 3
   },
   "file_extension": ".py",
   "mimetype": "text/x-python",
   "name": "python",
   "nbconvert_exporter": "python",
   "pygments_lexer": "ipython3",
   "version": "3.8.5"
  }
 },
 "nbformat": 4,
 "nbformat_minor": 2
}
